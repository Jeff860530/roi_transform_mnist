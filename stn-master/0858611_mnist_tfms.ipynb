{
  "nbformat": 4,
  "nbformat_minor": 0,
  "metadata": {
    "kernelspec": {
      "name": "python3",
      "display_name": "Python 3"
    },
    "language_info": {
      "codemirror_mode": {
        "name": "ipython",
        "version": 3
      },
      "file_extension": ".py",
      "mimetype": "text/x-python",
      "name": "python",
      "nbconvert_exporter": "python",
      "pygments_lexer": "ipython3",
      "version": "3.6.8"
    },
    "toc": {
      "base_numbering": 1,
      "nav_menu": {},
      "number_sections": true,
      "sideBar": true,
      "skip_h1_title": false,
      "title_cell": "Table of Contents",
      "title_sidebar": "Contents",
      "toc_cell": false,
      "toc_position": {},
      "toc_section_display": true,
      "toc_window_display": false
    },
    "colab": {
      "name": "mnist-spatial-tfms-force_scale.ipynb",
      "provenance": []
    },
    "accelerator": "GPU"
  },
  "cells": [
    {
      "cell_type": "code",
      "metadata": {
        "id": "dP-4t0szT2aH",
        "colab_type": "code",
        "colab": {}
      },
      "source": [
        "frompop\n",
        "rt *"
      ],
      "execution_count": 0,
      "outputs": []
    },
    {
      "cell_type": "code",
      "metadata": {
        "id": "96kUlS1CT2aU",
        "colab_type": "code",
        "colab": {
          "base_uri": "https://localhost:8080/",
          "height": 51
        },
        "outputId": "de4b9254-fe95-46a5-825c-85cb16c15be4"
      },
      "source": [
        "path = untar_data(URLs.MNIST)\n",
        "data = (ImageList.from_folder(path/'training')\n",
        "                     .random_split_by_pct()\n",
        "                     .label_from_folder()\n",
        "                     .databunch())"
      ],
      "execution_count": 2,
      "outputs": [
        {
          "output_type": "stream",
          "text": [
            "/usr/local/lib/python3.6/dist-packages/fastai/data_block.py:215: UserWarning: `random_split_by_pct` is deprecated, please use `split_by_rand_pct`.\n",
            "  warn(\"`random_split_by_pct` is deprecated, please use `split_by_rand_pct`.\")\n"
          ],
          "name": "stderr"
        }
      ]
    },
    {
      "cell_type": "code",
      "metadata": {
        "id": "OkgkX8ebT2af",
        "colab_type": "code",
        "colab": {}
      },
      "source": [
        "class Model(nn.Module):\n",
        "    def __init__(self, classifier, size=(28,28)):\n",
        "        super().__init__()\n",
        "        self.localization = nn.Sequential(\n",
        "            conv_layer(3, 32, stride=2),\n",
        "            conv_layer(32, 64, stride=2),\n",
        "            conv_layer(64, 128, stride=2),\n",
        "            AdaptiveConcatPool2d(),\n",
        "            Flatten(), *bn_drop_lin(256, 6)\n",
        "        )\n",
        "        self.size = size\n",
        "        self.sampling_grid = self._build_grid().cuda()\n",
        "        self.classifier = classifier\n",
        "    \n",
        "    def _build_grid(self):\n",
        "        H,W = self.size\n",
        "        x = torch.linspace(-1, 1, W)\n",
        "        y = torch.linspace(-1, 1, H)\n",
        "        x_t, y_t = [e.contiguous().view(-1) for e in torch.meshgrid(x,y)]\n",
        "        return torch.stack([x_t, y_t, torch.ones_like(x_t)])[None]\n",
        "    \n",
        "    def stn(self, x):\n",
        "        H,W = self.size\n",
        "        bs = x.size(0)\n",
        "        theta = self.localization(x).view(-1,2,3)\n",
        "        # build grid\n",
        "        sampling_grid = self.sampling_grid.repeat(bs,1,1)\n",
        "        grid = theta @ sampling_grid\n",
        "        grid = grid.view(-1, 2, W, H).permute(0,3,2,1)\n",
        "        x = F.grid_sample(x, grid)\n",
        "        return x\n",
        "        \n",
        "    def forward(self, x):\n",
        "        x = self.stn(x)\n",
        "        return self.classifier(x)"
      ],
      "execution_count": 0,
      "outputs": []
    },
    {
      "cell_type": "code",
      "metadata": {
        "id": "B8LhsuYbT2au",
        "colab_type": "code",
        "colab": {}
      },
      "source": [
        "from fastai.callbacks import *\n",
        "\n",
        "class CustomLoss(nn.Module):\n",
        "    def __init__(self, base_loss, scale_penalty=0.1):\n",
        "        super().__init__()\n",
        "        self.base_loss = base_loss\n",
        "        self.scale_penalty = scale_penalty\n",
        "        self.hook = hook_output(m.localization[-1], detach=False)\n",
        "        self.metric_names = ['cross_entropy', 'scale_loss']\n",
        "        \n",
        "    def forward(self, input, target):\n",
        "        losses = [self.base_loss(input,target)]\n",
        "        losses += [self.hook.stored[:,[0,4]].mean() * self.scale_penalty]\n",
        "        self.metrics = dict(zip(self.metric_names, losses))\n",
        "        return sum(losses)"
      ],
      "execution_count": 0,
      "outputs": []
    },
    {
      "cell_type": "code",
      "metadata": {
        "id": "I3Rbjt0HT2bV",
        "colab_type": "code",
        "colab": {
          "base_uri": "https://localhost:8080/",
          "height": 85
        },
        "outputId": "cc93da57-5397-4131-9566-245c93da6c64"
      },
      "source": [
        "tmp = create_cnn(data, models.resnet18, metrics=accuracy)\n",
        "m = Model(tmp.model)\n",
        "custom_loss = CustomLoss(data.loss_func, scale_penalty=0.5)\n",
        "learn = Learner(data, m, loss_func=custom_loss, metrics=accuracy, path='tmp', callback_fns=LossMetrics)"
      ],
      "execution_count": 5,
      "outputs": [
        {
          "output_type": "stream",
          "text": [
            "/usr/local/lib/python3.6/dist-packages/fastai/vision/learner.py:106: UserWarning: `create_cnn` is deprecated and is now named `cnn_learner`.\n",
            "  warn(\"`create_cnn` is deprecated and is now named `cnn_learner`.\")\n",
            "Downloading: \"https://download.pytorch.org/models/resnet18-5c106cde.pth\" to /root/.cache/torch/checkpoints/resnet18-5c106cde.pth\n",
            "100%|██████████| 44.7M/44.7M [00:00<00:00, 162MB/s] \n"
          ],
          "name": "stderr"
        }
      ]
    },
    {
      "cell_type": "code",
      "metadata": {
        "id": "WGjphve4T2bu",
        "colab_type": "code",
        "colab": {}
      },
      "source": [
        "l = learn.model.localization[-1]\n",
        "w = l.weight\n",
        "b = l.bias\n",
        "identity = torch.cat([torch.eye(2), torch.zeros(2,1)], dim=1).view(-1)\n",
        "with torch.no_grad():\n",
        "    w.fill_(0.)\n",
        "    b.data = identity.cuda()"
      ],
      "execution_count": 0,
      "outputs": []
    },
    {
      "cell_type": "code",
      "metadata": {
        "id": "OClGMRdVT2cO",
        "colab_type": "code",
        "colab": {
          "base_uri": "https://localhost:8080/",
          "height": 257
        },
        "outputId": "14a7d47c-77e5-45a1-e75d-9894e3d7ad0f"
      },
      "source": [
        "learn.fit_one_cycle(5, 1e-3)"
      ],
      "execution_count": 7,
      "outputs": [
        {
          "output_type": "display_data",
          "data": {
            "text/html": [
              "<table border=\"1\" class=\"dataframe\">\n",
              "  <thead>\n",
              "    <tr style=\"text-align: left;\">\n",
              "      <th>epoch</th>\n",
              "      <th>train_loss</th>\n",
              "      <th>valid_loss</th>\n",
              "      <th>accuracy</th>\n",
              "      <th>cross_entropy</th>\n",
              "      <th>scale_loss</th>\n",
              "      <th>time</th>\n",
              "    </tr>\n",
              "  </thead>\n",
              "  <tbody>\n",
              "    <tr>\n",
              "      <td>0</td>\n",
              "      <td>1.924233</td>\n",
              "      <td>1.604262</td>\n",
              "      <td>0.665000</td>\n",
              "      <td>1.102973</td>\n",
              "      <td>0.501289</td>\n",
              "      <td>00:29</td>\n",
              "    </tr>\n",
              "    <tr>\n",
              "      <td>1</td>\n",
              "      <td>1.470080</td>\n",
              "      <td>1.289531</td>\n",
              "      <td>0.745583</td>\n",
              "      <td>0.782661</td>\n",
              "      <td>0.506870</td>\n",
              "      <td>00:28</td>\n",
              "    </tr>\n",
              "    <tr>\n",
              "      <td>2</td>\n",
              "      <td>1.043192</td>\n",
              "      <td>0.871799</td>\n",
              "      <td>0.862083</td>\n",
              "      <td>0.424466</td>\n",
              "      <td>0.447333</td>\n",
              "      <td>00:28</td>\n",
              "    </tr>\n",
              "    <tr>\n",
              "      <td>3</td>\n",
              "      <td>0.740978</td>\n",
              "      <td>0.675244</td>\n",
              "      <td>0.917667</td>\n",
              "      <td>0.255607</td>\n",
              "      <td>0.419636</td>\n",
              "      <td>00:28</td>\n",
              "    </tr>\n",
              "    <tr>\n",
              "      <td>4</td>\n",
              "      <td>0.644311</td>\n",
              "      <td>0.569490</td>\n",
              "      <td>0.947250</td>\n",
              "      <td>0.168036</td>\n",
              "      <td>0.401454</td>\n",
              "      <td>00:28</td>\n",
              "    </tr>\n",
              "  </tbody>\n",
              "</table>"
            ],
            "text/plain": [
              "<IPython.core.display.HTML object>"
            ]
          },
          "metadata": {
            "tags": []
          }
        },
        {
          "output_type": "stream",
          "text": [
            "/usr/local/lib/python3.6/dist-packages/torch/nn/functional.py:2693: UserWarning: Default grid_sample and affine_grid behavior will be changed to align_corners=False from 1.4.0. See the documentation of grid_sample for details.\n",
            "  warnings.warn(\"Default grid_sample and affine_grid behavior will be changed \"\n"
          ],
          "name": "stderr"
        }
      ]
    },
    {
      "cell_type": "code",
      "metadata": {
        "id": "IkneC6m9T2ck",
        "colab_type": "code",
        "colab": {}
      },
      "source": [
        "# learn.save('force_scale')\n",
        "# learn.load('force_scale');"
      ],
      "execution_count": 0,
      "outputs": []
    },
    {
      "cell_type": "code",
      "metadata": {
        "id": "IcjyiX6qT2cq",
        "colab_type": "code",
        "colab": {
          "base_uri": "https://localhost:8080/",
          "height": 279
        },
        "outputId": "fc6912b6-042b-4e6d-b1ad-b5db433cb381"
      },
      "source": [
        "learn.recorder.plot_losses()"
      ],
      "execution_count": 9,
      "outputs": [
        {
          "output_type": "display_data",
          "data": {
            "image/png": "[encoded data removed]",
            "text/plain": [
              "<Figure size 432x288 with 1 Axes>"
            ]
          },
          "metadata": {
            "tags": []
          }
        }
      ]
    },
    {
      "cell_type": "code",
      "metadata": {
        "id": "HIWgKWfeT2c0",
        "colab_type": "code",
        "colab": {
          "base_uri": "https://localhost:8080/",
          "height": 71
        },
        "outputId": "edf3fd39-f278-4e08-97ed-61d8aa53f795"
      },
      "source": [
        "x,y = data.one_batch(DatasetType.Valid, denorm=False, cpu=False)\n",
        "\n",
        "with torch.no_grad():\n",
        "    W,H = 28,28\n",
        "    theta = learn.model.localization(x).view(-1,2,3)\n",
        "    sampling_grid = learn.model.sampling_grid.repeat(64,1,1)\n",
        "    grid = theta @ sampling_grid\n",
        "    grid = grid.view(-1, 2, W, H).permute(0,3,2,1)\n",
        "    x_s = grid[..., 0]\n",
        "    y_s = grid[..., 1]\n",
        "    xx = ((x_s + 1.) * W) * 0.5\n",
        "    yy = ((y_s + 1.) * H) * 0.5\n",
        "    x_ = F.grid_sample(x, grid)\n",
        "    y_ = learn.model.classifier(x_).argmax(1)"
      ],
      "execution_count": 10,
      "outputs": [
        {
          "output_type": "stream",
          "text": [
            "/usr/local/lib/python3.6/dist-packages/torch/nn/functional.py:2693: UserWarning: Default grid_sample and affine_grid behavior will be changed to align_corners=False from 1.4.0. See the documentation of grid_sample for details.\n",
            "  warnings.warn(\"Default grid_sample and affine_grid behavior will be changed \"\n"
          ],
          "name": "stderr"
        }
      ]
    },
    {
      "cell_type": "code",
      "metadata": {
        "id": "9hQVo1nXT2dC",
        "colab_type": "code",
        "colab": {
          "base_uri": "https://localhost:8080/",
          "height": 34
        },
        "outputId": "a5aa5b30-39c2-4419-de11-b25de18fb919"
      },
      "source": [
        "(theta[:,0,0]).mean(), (theta[:,1,1]).mean()"
      ],
      "execution_count": 11,
      "outputs": [
        {
          "output_type": "execute_result",
          "data": {
            "text/plain": [
              "(tensor(0.8998, device='cuda:0'), tensor(0.7415, device='cuda:0'))"
            ]
          },
          "metadata": {
            "tags": []
          },
          "execution_count": 11
        }
      ]
    },
    {
      "cell_type": "code",
      "metadata": {
        "id": "gL4kHcolT2dG",
        "colab_type": "code",
        "colab": {
          "base_uri": "https://localhost:8080/",
          "height": 386
        },
        "outputId": "37fa8c3d-d491-4088-9f29-b654e61c87b1"
      },
      "source": [
        "idx = np.random.choice(64)\n",
        "print(f'True: {y[idx].item()}, Pred: {y_[idx].item()}')\n",
        "fig, (ax1,ax2) = plt.subplots(1, 2, figsize=(13,5))\n",
        "ax1.imshow(x[idx,0], 'gray')\n",
        "t = [0,27,-1,-28]\n",
        "points = torch.stack([xx[idx], yy[idx]], dim=-1).view(-1,2)\n",
        "x0,x1 = min(0, points[:,0].min()-1), max(W, points[:,0].max()+1)\n",
        "y1,y0 = min(0, points[:,1].min()-1), max(H, points[:,1].max()+1)\n",
        "ax1.set_xlim(x0,x1)\n",
        "ax1.set_ylim(y0,y1)\n",
        "ax1.add_patch(patches.Polygon(points[t], fill=False, edgecolor='green', lw=2))\n",
        "ax2.imshow(x_[idx,0], 'gray')\n",
        "for ax in (ax1,ax2): ax.set_axis_off()\n",
        "plt.tight_layout()"
      ],
      "execution_count": 18,
      "outputs": [
        {
          "output_type": "stream",
          "text": [
            "True: 8, Pred: 8\n"
          ],
          "name": "stdout"
        },
        {
          "output_type": "display_data",
          "data": {
            "image/png": "[encoded data removed]",
            "text/plain": [
              "<Figure size 936x360 with 2 Axes>"
            ]
          },
          "metadata": {
            "tags": []
          }
        }
      ]
    },
    {
      "cell_type": "code",
      "metadata": {
        "id": "y-X4y7zgT2dK",
        "colab_type": "code",
        "colab": {}
      },
      "source": [
        ""
      ],
      "execution_count": 0,
      "outputs": []
    },
    {
      "cell_type": "code",
      "metadata": {
        "id": "LQuWzY4ZT2dW",
        "colab_type": "code",
        "colab": {}
      },
      "source": [
        ""
      ],
      "execution_count": 0,
      "outputs": []
    },
    {
      "cell_type": "code",
      "metadata": {
        "id": "7zU4lnqiT2dY",
        "colab_type": "code",
        "colab": {}
      },
      "source": [
        ""
      ],
      "execution_count": 0,
      "outputs": []
    },
    {
      "cell_type": "code",
      "metadata": {
        "id": "LNa5k5ZnT2db",
        "colab_type": "code",
        "colab": {}
      },
      "source": [
        ""
      ],
      "execution_count": 0,
      "outputs": []
    }
  ]
}